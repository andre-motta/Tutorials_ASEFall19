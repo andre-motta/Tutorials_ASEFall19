{
 "cells": [
  {
   "cell_type": "code",
   "execution_count": 1,
   "metadata": {},
   "outputs": [],
   "source": [
    "import matplotlib.pylab as plt\n",
    "import numpy as np\n",
    "%matplotlib inline\n",
    "from sklearn.linear_model import LinearRegression\n",
    "from sklearn import datasets\n",
    "from sklearn.model_selection import train_test_split"
   ]
  },
  {
   "cell_type": "code",
   "execution_count": 2,
   "metadata": {},
   "outputs": [
    {
     "data": {
      "text/plain": [
       "(442, 10)"
      ]
     },
     "execution_count": 2,
     "metadata": {},
     "output_type": "execute_result"
    }
   ],
   "source": [
    "diabetes = datasets.load_diabetes() # load data\n",
    "diabetes.data.shape # feature matrix shape"
   ]
  },
  {
   "cell_type": "code",
   "execution_count": 3,
   "metadata": {},
   "outputs": [
    {
     "data": {
      "text/plain": [
       "(442,)"
      ]
     },
     "execution_count": 3,
     "metadata": {},
     "output_type": "execute_result"
    }
   ],
   "source": [
    "diabetes.target.shape # target vector shape"
   ]
  },
  {
   "cell_type": "code",
   "execution_count": 4,
   "metadata": {},
   "outputs": [
    {
     "data": {
      "text/plain": [
       "['age', 'sex', 'bmi', 'bp', 's1', 's2', 's3', 's4', 's5', 's6']"
      ]
     },
     "execution_count": 4,
     "metadata": {},
     "output_type": "execute_result"
    }
   ],
   "source": [
    "diabetes.feature_names # column names"
   ]
  },
  {
   "cell_type": "code",
   "execution_count": 5,
   "metadata": {},
   "outputs": [],
   "source": [
    "# Sperate train and test data\n",
    "X_train, X_test, y_train, y_test = train_test_split(diabetes.data, diabetes.target, test_size=0.2, random_state=0)"
   ]
  },
  {
   "cell_type": "code",
   "execution_count": 6,
   "metadata": {},
   "outputs": [
    {
     "data": {
      "text/plain": [
       "0.33222203269065176"
      ]
     },
     "execution_count": 6,
     "metadata": {},
     "output_type": "execute_result"
    }
   ],
   "source": [
    "# There are three steps to model something with sklearn\n",
    "# 1. Set up the model\n",
    "model = LinearRegression()\n",
    "# 2. Use fit\n",
    "model.fit(X_train, y_train)\n",
    "# 3. Check the score\n",
    "model.score(X_test, y_test)"
   ]
  },
  {
   "cell_type": "code",
   "execution_count": 7,
   "metadata": {},
   "outputs": [
    {
     "data": {
      "text/plain": [
       "array([ -35.55683674, -243.1692265 ,  562.75404632,  305.47203008,\n",
       "       -662.78772128,  324.27527477,   24.78193291,  170.33056502,\n",
       "        731.67810787,   43.02846824])"
      ]
     },
     "execution_count": 7,
     "metadata": {},
     "output_type": "execute_result"
    }
   ],
   "source": [
    "model.coef_ # Get the coefficients, beta"
   ]
  },
  {
   "cell_type": "code",
   "execution_count": 8,
   "metadata": {},
   "outputs": [
    {
     "data": {
      "text/plain": [
       "152.5381335195406"
      ]
     },
     "execution_count": 8,
     "metadata": {},
     "output_type": "execute_result"
    }
   ],
   "source": [
    "model.intercept_ # Get the intercept, c"
   ]
  },
  {
   "cell_type": "code",
   "execution_count": 9,
   "metadata": {
    "scrolled": true
   },
   "outputs": [
    {
     "data": {
      "text/plain": [
       "array([238.47145247, 248.93170646, 164.05404165, 120.30794355,\n",
       "       187.42422054, 259.04865002, 113.55556372, 188.07597044,\n",
       "       149.49663441, 236.01099949, 172.24629506, 178.88073764,\n",
       "       109.15751983,  92.13508975, 243.33042043,  87.356971  ,\n",
       "       155.72606406,  66.99073989, 100.42610442, 218.09422877,\n",
       "       196.66287912, 161.29832968, 161.70779605, 156.52520454,\n",
       "       197.88796516, 167.57984206, 120.74478913,  84.83879727,\n",
       "       192.03728687, 160.60687024, 175.17178362,  84.22833237,\n",
       "       145.7995542 , 145.97333493, 140.96488953, 197.00421108,\n",
       "       165.94322494, 190.65906468, 128.22520508, 206.41941223,\n",
       "        84.35851196, 164.0256504 , 144.1056776 , 184.68355549,\n",
       "       177.80238966,  74.32855231, 143.3660286 , 138.67726085,\n",
       "       120.81146113, 234.34252077, 161.94390244,  74.5455476 ,\n",
       "       154.71905074, 156.78884927, 237.42227096, 174.23053048,\n",
       "       190.88212635, 118.98373473, 132.20418974, 168.52674824,\n",
       "       214.74245466, 171.42364091, 157.37409906, 108.86927343,\n",
       "       257.06329636, 152.17777143,  82.43686464, 231.56746032,\n",
       "       202.90641336,  47.18340199,  78.46954525, 129.30170908,\n",
       "       104.60253144, 144.65200281, 132.27974254, 190.04134164,\n",
       "        97.55541138, 197.51891007, 219.13709291, 186.13797012,\n",
       "       149.60913007, 208.42379455,  44.59036026, 206.20925368,\n",
       "        76.77377721,  94.94046865, 145.2955051 , 194.03776373,\n",
       "       132.78534336])"
      ]
     },
     "execution_count": 9,
     "metadata": {},
     "output_type": "execute_result"
    }
   ],
   "source": [
    "model.predict(X_test) # Predict unkown data"
   ]
  },
  {
   "cell_type": "code",
   "execution_count": 11,
   "metadata": {},
   "outputs": [
    {
     "data": {
      "image/png": "[encoded data removed]",
      "text/plain": [
       "<Figure size 432x288 with 1 Axes>"
      ]
     },
     "metadata": {
      "needs_background": "light"
     },
     "output_type": "display_data"
    }
   ],
   "source": [
    "# plot prediction and actual data\n",
    "y_pred = model.predict(X_test) \n",
    "plt.plot(y_test, y_pred, '.')\n",
    "\n",
    "# plot a line, a perfit predict would all fall on this line\n",
    "x = np.linspace(0, 330, 100)\n",
    "y = x\n",
    "plt.plot(x, y)\n",
    "plt.xlabel(\"y_test\")\n",
    "plt.ylabel(\"y_pred\")\n",
    "plt.show()"
   ]
  },
  {
   "cell_type": "code",
   "execution_count": null,
   "metadata": {},
   "outputs": [],
   "source": []
  }
 ],
 "metadata": {
  "kernelspec": {
   "display_name": "Python 3",
   "language": "python",
   "name": "python3"
  },
  "language_info": {
   "codemirror_mode": {
    "name": "ipython",
    "version": 3
   },
   "file_extension": ".py",
   "mimetype": "text/x-python",
   "name": "python",
   "nbconvert_exporter": "python",
   "pygments_lexer": "ipython3",
   "version": "3.7.3"
  }
 },
 "nbformat": 4,
 "nbformat_minor": 4
}
